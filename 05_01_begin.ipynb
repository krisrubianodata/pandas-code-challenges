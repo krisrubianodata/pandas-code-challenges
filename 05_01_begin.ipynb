{
 "cells": [
  {
   "cell_type": "markdown",
   "id": "ee7e7699",
   "metadata": {},
   "source": [
    "# Grouping data"
   ]
  },
  {
   "cell_type": "markdown",
   "id": "6dea210a",
   "metadata": {},
   "source": [
    "Study groups of customers based on purchases.\n",
    "\n",
    "<strong>Challenge:</strong>\n",
    "<ul>\n",
    "<li>Find the average amount of products purchased based on each marital status group</li>\n",
    "</ul>\n",
    "\n",
    "<strong>Tips:</strong>\n",
    "<ul>\n",
    "<li>Use groupby() method to group data</li>\n",
    "<li>Use mean() aggregate function to calculate the average</li>\n",
    "</ul>"
   ]
  },
  {
   "cell_type": "code",
   "execution_count": null,
   "id": "29452d05",
   "metadata": {},
   "outputs": [],
   "source": [
    "import pandas as pd"
   ]
  },
  {
   "cell_type": "code",
   "execution_count": null,
   "id": "dc791129",
   "metadata": {},
   "outputs": [],
   "source": [
    "df = pd.read_csv(\"./data/marketing_campaign.csv\", sep='\\t')\n",
    "df.info()"
   ]
  },
  {
   "cell_type": "markdown",
   "id": "a39d6a11",
   "metadata": {},
   "source": [
    "## Average amount of each product bought by each group of customers"
   ]
  },
  {
   "cell_type": "code",
   "execution_count": null,
   "id": "178450b4",
   "metadata": {},
   "outputs": [],
   "source": []
  }
 ],
 "metadata": {
  "kernelspec": {
   "display_name": "Python 3 (ipykernel)",
   "language": "python",
   "name": "python3"
  },
  "language_info": {
   "codemirror_mode": {
    "name": "ipython",
    "version": 3
   },
   "file_extension": ".py",
   "mimetype": "text/x-python",
   "name": "python",
   "nbconvert_exporter": "python",
   "pygments_lexer": "ipython3",
   "version": "3.9.6"
  }
 },
 "nbformat": 4,
 "nbformat_minor": 5
}
