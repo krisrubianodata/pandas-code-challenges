{
 "cells": [
  {
   "cell_type": "markdown",
   "id": "fba5b622",
   "metadata": {},
   "source": [
    "## Calculate yearly stock price returns"
   ]
  },
  {
   "cell_type": "markdown",
   "id": "4b7ccc85",
   "metadata": {},
   "source": [
    "Calculate the yearly stock return for four organizations.\n",
    "\n",
    "<strong>Challenge:</strong>\n",
    "<ul>\n",
    "<li>Read the stock_data.csv file from the data folder.</li>\n",
    "<li>From the time-series data, calculate the daily return followed by the yearly return after extracting the year from date.</li>\n",
    "</ul>\n",
    "\n",
    "<strong>Tips:</strong>\n",
    "<ul>\n",
    "<li>Use pct_change() method to calculate daily returns</li>\n",
    "<li>Make unnamed date column the index</li>\n",
    "<li>Extract the year from the date and group by year to aggregate the yearly return</li>\n",
    "</ul>"
   ]
  },
  {
   "cell_type": "code",
   "execution_count": 1,
   "id": "29452d05",
   "metadata": {},
   "outputs": [],
   "source": [
    "import pandas as pd"
   ]
  },
  {
   "cell_type": "code",
   "execution_count": null,
   "id": "adbbcfa3",
   "metadata": {},
   "outputs": [],
   "source": []
  }
 ],
 "metadata": {
  "kernelspec": {
   "display_name": "Python 3 (ipykernel)",
   "language": "python",
   "name": "python3"
  },
  "language_info": {
   "codemirror_mode": {
    "name": "ipython",
    "version": 3
   },
   "file_extension": ".py",
   "mimetype": "text/x-python",
   "name": "python",
   "nbconvert_exporter": "python",
   "pygments_lexer": "ipython3",
   "version": "3.10.13"
  }
 },
 "nbformat": 4,
 "nbformat_minor": 5
}
