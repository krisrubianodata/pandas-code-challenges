{
 "cells": [
  {
   "cell_type": "markdown",
   "id": "607e901f",
   "metadata": {},
   "source": [
    "## Read data from the CSV file "
   ]
  },
  {
   "cell_type": "markdown",
   "id": "18fe9376",
   "metadata": {},
   "source": [
    "Data analysts read data from different types of files and read data in different ways.\n",
    "\n",
    "<strong>Challenge:</strong>\n",
    "<ul>\n",
    "<li>Read the fuel consumption data from a CSV file</li>\n",
    "<li>Show the top 10 rows in the data</li>\n",
    "<li>A list of column names is given separately</li>\n",
    "</ul>\n",
    "\n",
    "<strong>Tips:</strong>\n",
    "<ul>\n",
    "<li>Use the pandas read_csv() function to read the file</li>\n",
    "<li>Provide the correct file path to the function</li>\n",
    "<li>Column names &ndash; MPG, Cylinders, Displacement, Horsepower, Weight, Acceleration, Model Year, Origin</li>\n",
    "<li>Display the top 10 rows</li>\n",
    "</ul>"
   ]
  },
  {
   "cell_type": "code",
   "execution_count": 1,
   "id": "88ff8385",
   "metadata": {},
   "outputs": [],
   "source": [
    "import pandas as pd"
   ]
  },
  {
   "cell_type": "code",
   "execution_count": null,
   "id": "2b95286f",
   "metadata": {},
   "outputs": [],
   "source": []
  }
 ],
 "metadata": {
  "kernelspec": {
   "display_name": "Python 3 (ipykernel)",
   "language": "python",
   "name": "python3"
  },
  "language_info": {
   "codemirror_mode": {
    "name": "ipython",
    "version": 3
   },
   "file_extension": ".py",
   "mimetype": "text/x-python",
   "name": "python",
   "nbconvert_exporter": "python",
   "pygments_lexer": "ipython3",
   "version": "3.9.7"
  }
 },
 "nbformat": 4,
 "nbformat_minor": 5
}
